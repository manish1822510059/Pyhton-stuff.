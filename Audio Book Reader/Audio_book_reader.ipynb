{
 "cells": [
  {
   "cell_type": "code",
   "execution_count": 5,
   "metadata": {},
   "outputs": [],
   "source": [
    "import pyttsx3\n",
    "import PyPDF2"
   ]
  },
  {
   "cell_type": "code",
   "execution_count": null,
   "metadata": {},
   "outputs": [],
   "source": [
    "<h2> Hey there! I'm Manish kumar.</h2>\n",
    "<img align=\"right\" alt=\"GIF\" src=\"https://media.giphy.com/media/iIqmM5tTjmpOB9mpbn/giphy.gif\" />\n",
    "\n",
    "<h3> 👨🏻‍💻 About Me </h3>\n",
    "\n",
    "- 🤔 &nbsp; Exploring new technologies .\n",
    "- 🌱 I’m currently learning **Data Science🤩**\n",
    "- 🎓 &nbsp; Studying Computer Science and Engineering at A.K.T.U University.\n",
    "- 🌱 &nbsp; Learning more about Python with Data science,Artificial Intelligence.\n",
    "- ✍️ &nbsp; Blog Writing as hobbies/side hustles.\n",
    "- 💬 Ask me about anything, I would like to answer.\n",
    "- 📫 Please email via imanish1998@gmail.com to reach me.\n",
    "\n",
    "<h3>🛠 Tech Stack</h3>\n",
    "\n",
    "- 💻 &nbsp; Python | C | C++ | MATLAB\n",
    "- 🌐 &nbsp; HTML | CSS | JavaScript | Bootstrap\n",
    "- 🛢 &nbsp; MySQL \n",
    "- 🔧 &nbsp; Git \n",
    "<br>\n",
    "\n",
    "\n",
    "<p align=\"left\"><img src=\"https://devicons.github.io/devicon/devicon.git/icons/android/android-original-wordmark.svg\" alt=\"android\" width=\"40\" height=\"40\"/> <img src=\"https://devicons.github.io/devicon/devicon.git/icons/c/c-original.svg\" alt=\"c\" width=\"40\" height=\"40\"/> <img src=\"https://devicons.github.io/devicon/devicon.git/icons/cplusplus/cplusplus-original.svg\" alt=\"cplusplus\" width=\"40\" height=\"40\"/> <img src=\"https://devicons.github.io/devicon/devicon.git/icons/css3/css3-original-wordmark.svg\" alt=\"css3\" width=\"40\" height=\"40\"/> <img src=\"https://devicons.github.io/devicon/devicon.git/icons/django/django-original.svg\" alt=\"django\" width=\"40\" height=\"40\"/> <img src=\"https://www.vectorlogo.zone/logos/git-scm/git-scm-icon.svg\" alt=\"git\" width=\"40\" height=\"40\"/> <img src=\"https://devicons.github.io/devicon/devicon.git/icons/html5/html5-original-wordmark.svg\" alt=\"html5\" width=\"40\" height=\"40\"/> <img src=\"https://devicons.github.io/devicon/devicon.git/icons/java/java-original-wordmark.svg\" alt=\"java\" width=\"40\" height=\"40\"/> <img src=\"https://devicons.github.io/devicon/devicon.git/icons/javascript/javascript-original.svg\" alt=\"javascript\" width=\"40\" height=\"40\"/> <img src=\"https://devicons.github.io/devicon/devicon.git/icons/linux/linux-original.svg\" alt=\"linux\" width=\"40\" height=\"40\"/> <img src=\"https://devicons.github.io/devicon/devicon.git/icons/mongodb/mongodb-original-wordmark.svg\" alt=\"mongodb\" width=\"40\" height=\"40\"/> <img src=\"https://devicons.github.io/devicon/devicon.git/icons/mysql/mysql-original-wordmark.svg\" alt=\"mysql\" width=\"40\" height=\"40\"/> <img src=\"https://www.vectorlogo.zone/logos/opencv/opencv-icon.svg\" alt=\"opencv\" width=\"40\" height=\"40\"/> <img src=\"https://devicons.github.io/devicon/devicon.git/icons/python/python-original.svg\" alt=\"python\" width=\"40\" height=\"40\"/> <img src=\"https://www.vectorlogo.zone/logos/pytorch/pytorch-icon.svg\" alt=\"pytorch\" width=\"40\" height=\"40\"/> <img src=\"https://www.vectorlogo.zone/logos/tensorflow/tensorflow-icon.svg\" alt=\"tensorflow\" width=\"40\" height=\"40\"/>\n",
    "<img src=\"https://devicons.github.io/devicon/devicon.git/icons/angularjs/angularjs-original.svg\" alt=\"angularjs\" width=\"40\" height=\"40\"/>\n",
    "<img src=\"https://devicons.github.io/devicon/devicon.git/icons/amazonwebservices/amazonwebservices-original-wordmark.svg\" alt=\"aws\" width=\"40\" height=\"40\"/> <img src=\"https://www.vectorlogo.zone/logos/microsoft_azure/microsoft_azure-icon.svg\" alt=\"azure\" width=\"40\" height=\"40\"/> <img src=\"https://devicons.github.io/devicon/devicon.git/icons/csharp/csharp-original.svg\" alt=\"csharp\" width=\"40\" height=\"40\"/><img src=\"https://devicons.github.io/devicon/devicon.git/icons/express/express-original-wordmark.svg\" alt=\"express\" width=\"40\" height=\"40\"/> <img src=\"https://www.vectorlogo.zone/logos/google_cloud/google_cloud-icon.svg\" alt=\"gcp\" width=\"40\" height=\"40\"/>\n",
    "<img src=\"https://devicons.github.io/devicon/devicon.git/icons/photoshop/photoshop-plain.svg\" alt=\"photoshop\" width=\"40\" height=\"40\"/> <img src=\"https://devicons.github.io/devicon/devicon.git/icons/php/php-original.svg\" alt=\"php\" width=\"40\" height=\"40\"/> <img src=\"https://upload.wikimedia.org/wikipedia/commons/0/05/Scikit_learn_logo_small.svg\" alt=\"scikit_learn\" width=\"40\" height=\"40\"/> <img src=\"https://www.vectorlogo.zone/logos/sketchapp/sketchapp-icon.svg\" alt=\"sketch\" width=\"40\" height=\"40\"/> <img src=\"https://devicons.github.io/devicon/devicon.git/icons/swift/swift-original-wordmark.svg\" alt=\"swift\" width=\"40\" height=\"40\"/></p>\n",
    "<br>\n",
    "<p><img align=\"left\" src=\"https://github-readme-stats.vercel.app/api/top-langs/?username=manish1822510059&layout=compact&hide=html&theme=highcontrast\" alt=\"manish1822510059\" /></p>\n",
    "\n",
    "\n",
    "[![manish1822510059's GitHub Stats](https://github-readme-stats.vercel.app/api?username=manish1822510059&show_icons=true)](https://github.com/manish1822510059)\n",
    "\n",
    "\n",
    "\n",
    "<h3> 🤝🏻 Connect with Me </h3>\n",
    "\n",
    "<p align=\"center\">\n",
    "<a href=\"https://notestoconnect.wordpress.com//\"><img alt=\"Website\" src=\"https://img.shields.io/badge/Website-https://notestoconnect.wordpress.com/-blue?style=flat-square&logo=google-chrome\"></a>\n",
    "<a href=\"https://www.linkedin.com/in/manish-k-951800135/\"><img alt=\"LinkedIn\" src=\"https://img.shields.io/badge/LinkedIn-Manish%20Kumar-blue?style=flat-square&logo=linkedin\"></a>\n",
    "<a href=\"https://www.instagram.com/imanish1998/?hl=en\"><img alt=\"Instagram\" src=\"https://img.shields.io/badge/Instagram-manish__-blue?style=flat-square&logo=instagram\"></a>\n",
    "<a href=\"mailto:imanish1998@gmail.com\"><img alt=\"Email\" src=\"https://img.shields.io/badge/Email-imanish1998@gmail.com-blue?style=flat-square&logo=gmail\"></a>\n",
    "  <img src=\"https://camo.githubusercontent.com/50f214e821f1b0bb98c311abd13e714c4b78976a/68747470733a2f2f56697369746f722d62616467652e676c697463682e6d652f62616467653f706167655f69643d6b757368616c3939372d6461732e70726f66696c6576696577732d6261646765\" alt=\"Profile\" data-canonical-src=\"https://Visitor-badge.glitch.me/badge?page_id=manish1822510059.profileviews-badge\" style=\"max-width:100%;\">\n",
    "</p>\n",
    "\n",
    "⭐️ From [MK1822510059](https://github.com/manish1822510059)\n"
   ]
  }
 ],
 "metadata": {
  "kernelspec": {
   "display_name": "Python 3",
   "language": "python",
   "name": "python3"
  },
  "language_info": {
   "codemirror_mode": {
    "name": "ipython",
    "version": 3
   },
   "file_extension": ".py",
   "mimetype": "text/x-python",
   "name": "python",
   "nbconvert_exporter": "python",
   "pygments_lexer": "ipython3",
   "version": "3.8.3"
  }
 },
 "nbformat": 4,
 "nbformat_minor": 4
}
